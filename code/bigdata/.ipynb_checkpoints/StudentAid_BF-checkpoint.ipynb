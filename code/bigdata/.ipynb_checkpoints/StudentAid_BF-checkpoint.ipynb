{
 "cells": [
  {
   "cell_type": "code",
   "execution_count": 1,
   "metadata": {
    "collapsed": true
   },
   "outputs": [],
   "source": [
    "import sqlite3\n",
    "import csv\n",
    "from sqlite3 import Error\n",
    "import sys\n",
    "import sys"
   ]
  },
  {
   "cell_type": "code",
   "execution_count": 2,
   "metadata": {
    "collapsed": true
   },
   "outputs": [],
   "source": [
    "reload(sys)\n",
    "sys.setdefaultencoding('utf8')"
   ]
  },
  {
   "cell_type": "code",
   "execution_count": 3,
   "metadata": {
    "collapsed": true
   },
   "outputs": [],
   "source": [
    "def create_connection(db_file):\n",
    "    \"\"\" create a database connection to the SQLite database\n",
    "        specified by the db_file\n",
    "    :param db_file: database file\n",
    "    :return: Connection object or None\n",
    "    \"\"\"\n",
    "    try:\n",
    "        conn = sqlite3.connect(db_file)\n",
    "        return conn\n",
    "    except Error as e:\n",
    "        print(e)\n",
    " \n",
    "    return None"
   ]
  },
  {
   "cell_type": "code",
   "execution_count": 4,
   "metadata": {
    "collapsed": true
   },
   "outputs": [],
   "source": [
    "def select_task_by_priority(conn, priority):\n",
    "    \"\"\"\n",
    "    Query tasks by priority\n",
    "    :param conn: the Connection object\n",
    "    :param priority:\n",
    "    :return:\n",
    "    \"\"\"\n",
    "    cur = conn.cursor()\n",
    "    cur.execute(\"SELECT * FROM Scorecard WHERE Id=?\", (priority,))\n",
    " \n",
    "    rows = cur.fetchall()\n",
    " \n",
    "    for row in rows:\n",
    "        print(row)"
   ]
  },
  {
   "cell_type": "code",
   "execution_count": 5,
   "metadata": {
    "collapsed": true
   },
   "outputs": [],
   "source": [
    "def cpNotH(cpH,pH):\n",
    "    pEH=cpH*pH\n",
    "    pE=sum(pEH)\n",
    "    return ((pE-pEH)/(1-pH))"
   ]
  },
  {
   "cell_type": "code",
   "execution_count": 6,
   "metadata": {
    "collapsed": true
   },
   "outputs": [],
   "source": [
    "def BFactor(cpH,cpNotH):\n",
    "    x=cpH/cpNotH\n",
    "    return log10(x)"
   ]
  },
  {
   "cell_type": "code",
   "execution_count": 7,
   "metadata": {
    "collapsed": true
   },
   "outputs": [],
   "source": [
    "database = \"/Users/hanbing/Desktop/BigDataAnalytics/FinalProject/database.sqlite\""
   ]
  },
  {
   "cell_type": "code",
   "execution_count": 17,
   "metadata": {
    "collapsed": true
   },
   "outputs": [],
   "source": [
    "# create a database connection\n",
    "conn = create_connection(database)\n",
    "with conn:\n",
    "    print(\"1. Query task by priority:\")\n",
    "    # select_task_by_priority(conn,1)\n",
    "\n",
    "    cur = conn.cursor()\n",
    "    # UGDS_WHITENH,UGDS_BLACKNH,UGDS_API,UGDS_AIANOld,UGDS_HISPOld\n",
    "    cur.execute(\"\"\"Select UNITID,INSTNM,UGDS,UGDS_WHITE,UGDS_BLACK,UGDS_HISP,UGDS_ASIAN,UGDS_AIAN,UGDS_NHPI,UGDS_2MOR,UGDS_NRA,UGDS_UNKN From Scorecard \n",
    "        WHERE Year=2013 AND UGDS_WHITE!='' AND \n",
    "        CONTROL != 'Private for-profit' AND \n",
    "               CURROPER      == 'Currently certified as operating' AND \n",
    "               DISTANCEONLY    == 'Not distance-education only' AND \n",
    "               PREDDEG      == \"Predominantly bachelor's-degree granting\" AND \n",
    "               region      != 'U.S. Service Schools' AND \n",
    "               CCBASIC !='' AND \n",
    "               UGDS!=''\n",
    "        \"\"\")\n",
    "    rows = cur.fetchall()\n",
    " \n",
    "    w = csv.writer(open(\"Scorecard(ethnic).csv\", \"wb\"))\n",
    "    w.writerow([\"UNITID\",\"INSTNM\",\"UGDS\",\"UGDS_WHITE\",\"UGDS_BLACK\",\"UGDS_HISP\",\"UGDS_ASIAN\",\"UGDS_AIAN\",\"UGDS_NHPI\",\"UGDS_2MOR\",\"UGDS_NRA\",\"UGDS_UNKN\"])\n",
    "    for row in rows:\n",
    "        # row[0]=row[0].encode('utf-8')\n",
    "        w.writerow(row)\n",
    "        # print(row)"
   ]
  },
  {
   "cell_type": "code",
   "execution_count": 18,
   "metadata": {
    "collapsed": true
   },
   "outputs": [],
   "source": [
    "# create a database connection\n",
    "conn = create_connection(database)\n",
    "with conn:\n",
    "    print(\"1. Query task by priority:\")\n",
    "    # select_task_by_priority(conn,1)\n",
    "\n",
    "    cur = conn.cursor()\n",
    "    # UGDS_WHITENH,UGDS_BLACKNH,UGDS_API,UGDS_AIANOld,UGDS_HISPOld\n",
    "    cur.execute(\"\"\"Select UNITID,INSTNM,UGDS,pell_ever,fsend_1,fsend_2,fsend_3,fsend_4,fsend_5 From Scorecard \n",
    "        WHERE Year=2005\n",
    "        \"\"\")\n",
    "    rows = cur.fetchall()\n",
    " \n",
    "    w = csv.writer(open(\"Scorecard(aid).csv\", \"wb\"))\n",
    "    w.writerow([\"UNITID\",\"INSTNM\",\"UGDS\",\"pell_over\",\"fsend_1\",\"fsend_2\",\"fsend_3\",\"fsend_4\",\"fsend_5\"])\n",
    "    for row in rows:\n",
    "        # row[0]=row[0].encode('utf-8')\n",
    "        w.writerow(row)\n",
    "        # print(row)"
   ]
  },
  {
   "cell_type": "code",
   "execution_count": 68,
   "metadata": {
    "collapsed": true
   },
   "outputs": [],
   "source": [
    "import pandas as pd\n",
    "import numpy as np\n",
    "df = pd.read_csv('/Users/hanbing/Desktop/BigDataAnalytics/FinalProject/Scorecard(aid).csv')\n",
    "df['probSchool'] = df['UGDS']/(df['UGDS'].sum())\n",
    "df['totprob'] = df['fsend_1']+df['fsend_2']+df['fsend_3']+df['fsend_4']+df['fsend_5']"
   ]
  },
  {
   "cell_type": "code",
   "execution_count": 69,
   "metadata": {
    "collapsed": true
   },
   "outputs": [],
   "source": [
    "data_columns = ['pell_over']\n",
    "num_df = (df.drop(data_columns, axis=1).join(df[data_columns].apply(pd.to_numeric, errors='coerce')))\n",
    "df = num_df[num_df[data_columns].notnull().all(axis=1)]"
   ]
  },
  {
   "cell_type": "code",
   "execution_count": 87,
   "metadata": {
    "collapsed": true
   },
   "outputs": [],
   "source": [
    "l= [\"pell_over\",\"fsend_1\",\"fsend_2\",\"fsend_3\",\"fsend_4\",\"fsend_5\"]\n",
    "for col in l:\n",
    "    \n",
    "    s = 'BF_' + col\n",
    "    df[col] = df[col] + (1e-9) \n",
    "    df[s] = np.log10(df[col] / (df[col] * df['probSchool']).sum())"
   ]
  },
  {
   "cell_type": "code",
   "execution_count": 94,
   "metadata": {
    "collapsed": true
   },
   "outputs": [],
   "source": [
    "df_final = df[['UNITID','INSTNM','BF_pell_over','BF_fsend_1','BF_fsend_2','BF_fsend_3','BF_fsend_4','BF_fsend_5']]"
   ]
  },
  {
   "cell_type": "code",
   "execution_count": 97,
   "metadata": {
    "collapsed": true
   },
   "outputs": [],
   "source": [
    "df_final.to_csv('/Users/hanbing/Desktop/BigDataAnalytics/FinalProject/BF_StudentAid.csv',index=False)"
   ]
  },
  {
   "cell_type": "code",
   "execution_count": null,
   "metadata": {
    "collapsed": true
   },
   "outputs": [],
   "source": []
  }
 ],
 "metadata": {
  "kernelspec": {
   "display_name": "Python 3",
   "language": "python",
   "name": "python3"
  },
  "language_info": {
   "codemirror_mode": {
    "name": "ipython",
    "version": 3
   },
   "file_extension": ".py",
   "mimetype": "text/x-python",
   "name": "python",
   "nbconvert_exporter": "python",
   "pygments_lexer": "ipython3",
   "version": "3.6.2"
  }
 },
 "nbformat": 4,
 "nbformat_minor": 2
}
